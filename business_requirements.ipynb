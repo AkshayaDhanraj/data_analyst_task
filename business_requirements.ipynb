{
 "cells": [
  {
   "cell_type": "code",
   "execution_count": 72,
   "metadata": {},
   "outputs": [],
   "source": [
    "from prerequisite_checks import df_order as fact_order, df_shipping as fact_shipping, df_customer as dim_customer\n",
    "import pandasql as ps\n"
   ]
  },
  {
   "cell_type": "markdown",
   "metadata": {},
   "source": [
    "##### 1.\tThe total amount spent and the country for the Pending delivery status for each country."
   ]
  },
  {
   "cell_type": "code",
   "execution_count": 73,
   "metadata": {
    "vscode": {
     "languageId": "sql"
    }
   },
   "outputs": [
    {
     "name": "stdout",
     "output_type": "stream",
     "text": [
      "  Country  total_amount_spent\n",
      "0     UAE               53800\n",
      "1      UK              136300\n",
      "2     USA               65500\n"
     ]
    }
   ],
   "source": [
    "q1 = \"\"\" SELECT country, SUM(Amount) AS total_amount_spent FROM df_order o \n",
    "LEFT JOIN dim_customer c ON o.Customer_ID = c.Customer_ID \n",
    "LEFT JOIN fact_shipping s ON o.Customer_ID = s.Customer_ID \n",
    "WHERE Status = 'Pending' GROUP BY Country \"\"\"\n",
    "print(ps.sqldf(q1, locals()))"
   ]
  },
  {
   "cell_type": "markdown",
   "metadata": {},
   "source": [
    "##### 2.\tThe total number of transactions, total quantity sold, and total amount spent for each customer, along with the product details."
   ]
  },
  {
   "cell_type": "code",
   "execution_count": 74,
   "metadata": {
    "vscode": {
     "languageId": "sql"
    }
   },
   "outputs": [
    {
     "name": "stdout",
     "output_type": "stream",
     "text": [
      "     Customer_ID first_name   last_name      item  total_transactions  \\\n",
      "0              4       Eric      Carter  Mousepad                   1   \n",
      "1              5    William     Jackson   DDR RAM                   1   \n",
      "2              8      Jason  Montgomery   DDR RAM                   1   \n",
      "3              8      Jason  Montgomery  Mousepad                   2   \n",
      "4              8      Jason  Montgomery    Webcam                   1   \n",
      "..           ...        ...         ...       ...                 ...   \n",
      "232          247       John      Miller  Mousepad                   1   \n",
      "233          249   Patricia      Garcia   DDR RAM                   1   \n",
      "234          249   Patricia      Garcia   Headset                   1   \n",
      "235          249   Patricia      Garcia  Mousepad                   2   \n",
      "236          250    Stephen       Jones     Mouse                   1   \n",
      "\n",
      "     total_quantity_sold  total_amount_spent  \n",
      "0                      1                 200  \n",
      "1                      1                1500  \n",
      "2                      1                1500  \n",
      "3                      2                 450  \n",
      "4                      1                 350  \n",
      "..                   ...                 ...  \n",
      "232                    1                 250  \n",
      "233                    1                1500  \n",
      "234                    1                 900  \n",
      "235                    2                 450  \n",
      "236                    1                 300  \n",
      "\n",
      "[237 rows x 7 columns]\n"
     ]
    }
   ],
   "source": [
    "q2 = \"\"\" WITH customer_item_agg AS (\n",
    "    SELECT \n",
    "        customer_id,\n",
    "        item,\n",
    "        COUNT(*) AS total_transactions,\n",
    "        COUNT(*) AS total_quantity_sold,\n",
    "        SUM(amount) AS total_amount_spent\n",
    "    FROM fact_order\n",
    "    GROUP BY Customer_ID, Item\n",
    ")\n",
    "SELECT \n",
    "    c.customer_id,\n",
    "    c.First AS first_name,\n",
    "    c.Last AS last_name,\n",
    "    cia.item,\n",
    "    cia.total_transactions,\n",
    "    cia.total_quantity_sold,\n",
    "    cia.total_amount_spent\n",
    "FROM customer_item_agg cia\n",
    "JOIN dim_customer c ON c.Customer_ID = cia.Customer_ID\n",
    "ORDER BY c.Customer_ID, cia.Item\"\"\"\n",
    "\n",
    "print(ps.sqldf(q2, locals()))"
   ]
  },
  {
   "cell_type": "markdown",
   "metadata": {},
   "source": [
    "##### 3.\tThe maximum product purchased for each country."
   ]
  },
  {
   "cell_type": "code",
   "execution_count": 75,
   "metadata": {
    "vscode": {
     "languageId": "sql"
    }
   },
   "outputs": [
    {
     "name": "stdout",
     "output_type": "stream",
     "text": [
      "  country      item\n",
      "0     UAE  Keyboard\n",
      "1      UK  Mousepad\n",
      "2     USA  Mousepad\n"
     ]
    }
   ],
   "source": [
    "q3 = \"\"\"SELECT country, item\n",
    "FROM (\n",
    "  SELECT c.country, o.item, COUNT(o.customer_id) AS total_quantity,\n",
    "  DENSE_RANK() OVER (PARTITION BY c.country ORDER BY COUNT(o.customer_id) DESC) AS rn\n",
    "  FROM fact_order o\n",
    "  JOIN dim_customer c ON o.customer_id = c.customer_id\n",
    "  GROUP BY c.country, o.item\n",
    ") a WHERE rn = 1\"\"\"\n",
    "\n",
    "print(ps.sqldf(q3,locals()))"
   ]
  },
  {
   "cell_type": "markdown",
   "metadata": {},
   "source": [
    "##### 4.\tThe most purchased product based on the age category less than 30 and above 30."
   ]
  },
  {
   "cell_type": "code",
   "execution_count": 76,
   "metadata": {
    "vscode": {
     "languageId": "sql"
    }
   },
   "outputs": [
    {
     "name": "stdout",
     "output_type": "stream",
     "text": [
      "  age_category      item  total_quantity_sold\n",
      "0          <30  Mousepad                   17\n",
      "1         >=30  Keyboard                   35\n"
     ]
    }
   ],
   "source": [
    "q4 = \"\"\"WITH customer_age AS (\n",
    "    SELECT \n",
    "    c.customer_id,\n",
    "    CASE WHEN c.age < 30 THEN '<30' ELSE '>=30' END AS age_category,\n",
    "    o.item\n",
    "    FROM fact_order o\n",
    "    JOIN dim_customer c ON o.customer_id = c.customer_id\n",
    "),\n",
    "product_quantity AS (\n",
    "    SELECT \n",
    "    age_category,\n",
    "    item,\n",
    "    COUNT(*) AS total_quantity_sold\n",
    "    FROM customer_age\n",
    "    GROUP BY age_category, item\n",
    "),\n",
    "ranked_products AS (\n",
    "    SELECT \n",
    "    *,\n",
    "    ROW_NUMBER() OVER (PARTITION BY age_category ORDER BY total_quantity_sold DESC) AS rn\n",
    "    FROM product_quantity\n",
    ")\n",
    "SELECT age_category, item, total_quantity_sold\n",
    "FROM ranked_products\n",
    "WHERE rn = 1\"\"\"\n",
    "\n",
    "print(ps.sqldf(q4,locals()))\n"
   ]
  },
  {
   "cell_type": "markdown",
   "metadata": {},
   "source": [
    "##### 5.\tThe country that had minimum transactions and sales amount"
   ]
  },
  {
   "cell_type": "code",
   "execution_count": 77,
   "metadata": {
    "vscode": {
     "languageId": "sql"
    }
   },
   "outputs": [
    {
     "name": "stdout",
     "output_type": "stream",
     "text": [
      "  country  total_quantity\n",
      "0     UAE             900\n",
      "1      UK            3500\n",
      "2     USA            2700\n"
     ]
    }
   ],
   "source": [
    "q5 = \"\"\"SELECT country, total_quantity\n",
    "FROM (\n",
    "  SELECT c.country, o.item, SUM(o.amount) AS total_quantity,\n",
    "  ROW_NUMBER() OVER (PARTITION BY c.country ORDER BY SUM(o.amount)) AS rn\n",
    "  FROM fact_order o\n",
    "  JOIN dim_customer c ON o.customer_id = c.customer_id\n",
    "  GROUP BY c.country, o.item\n",
    ") a WHERE rn = 1\"\"\"\n",
    "\n",
    "print(ps.sqldf(q5,locals()))"
   ]
  }
 ],
 "metadata": {
  "kernelspec": {
   "display_name": "myenv",
   "language": "python",
   "name": "python3"
  },
  "language_info": {
   "codemirror_mode": {
    "name": "ipython",
    "version": 3
   },
   "file_extension": ".py",
   "mimetype": "text/x-python",
   "name": "python",
   "nbconvert_exporter": "python",
   "pygments_lexer": "ipython3",
   "version": "3.11.3"
  }
 },
 "nbformat": 4,
 "nbformat_minor": 2
}
