{
 "cells": [
  {
   "cell_type": "code",
   "execution_count": 43,
   "metadata": {},
   "outputs": [],
   "source": [
    "\n",
    "from dim_date import df_date as dim_date\n",
    "import pandasql as ps\n",
    "import pandas as pd\n",
    "dim_customer = pd.read_csv('/Users/akshayadhanraj/Python/DataAnalystTask/dim_customer.csv')\n",
    "dim_shipping = pd.read_csv('/Users/akshayadhanraj/Python/DataAnalystTask/dim_shipping.csv')\n",
    "dim_product = pd.read_csv('/Users/akshayadhanraj/Python/DataAnalystTask/dim_product.csv')\n",
    "fact_order = pd.read_csv('/Users/akshayadhanraj/Python/DataAnalystTask/fact_order.csv')\n"
   ]
  },
  {
   "cell_type": "markdown",
   "metadata": {},
   "source": [
    "##### 1.\tThe total amount spent and the country for the Pending delivery status for each country."
   ]
  },
  {
   "cell_type": "code",
   "execution_count": 45,
   "metadata": {
    "vscode": {
     "languageId": "sql"
    }
   },
   "outputs": [
    {
     "name": "stdout",
     "output_type": "stream",
     "text": [
      "  country  total_amount_spent\n",
      "0     UAE               53800\n",
      "1      UK              136300\n",
      "2     USA               65500\n"
     ]
    }
   ],
   "source": [
    "q1 = \"\"\" SELECT c.country, SUM(o.amount) AS total_amount_spent FROM fact_order o \n",
    "LEFT JOIN dim_customer c ON o.customer_id = c.customer_id \n",
    "LEFT JOIN dim_shipping s ON o.shipping_id = s.shipping_id \n",
    "WHERE status = 'Pending' GROUP BY country \"\"\"\n",
    "print(ps.sqldf(q1, locals()))"
   ]
  },
  {
   "cell_type": "markdown",
   "metadata": {},
   "source": [
    "##### 2.\tThe total number of transactions, total quantity sold, and total amount spent for each customer, along with the product details."
   ]
  },
  {
   "cell_type": "code",
   "execution_count": 46,
   "metadata": {
    "vscode": {
     "languageId": "sql"
    }
   },
   "outputs": [
    {
     "name": "stdout",
     "output_type": "stream",
     "text": [
      "     customer_id first_name   last_name product_name  total_transactions  \\\n",
      "0              4       Eric      Carter     Mousepad                   1   \n",
      "1              5    William     Jackson      DDR RAM                   1   \n",
      "2              8      Jason  Montgomery      DDR RAM                   2   \n",
      "3              8      Jason  Montgomery     Mousepad                   4   \n",
      "4              8      Jason  Montgomery       Webcam                   2   \n",
      "..           ...        ...         ...          ...                 ...   \n",
      "232          247       John      Miller     Mousepad                   1   \n",
      "233          249   Patricia      Garcia      DDR RAM                   1   \n",
      "234          249   Patricia      Garcia      Headset                   1   \n",
      "235          249   Patricia      Garcia     Mousepad                   2   \n",
      "236          250    Stephen       Jones        Mouse                   1   \n",
      "\n",
      "     total_quantity_sold  total_amount_spent  \n",
      "0                      1                 200  \n",
      "1                      1                1500  \n",
      "2                      2                3000  \n",
      "3                      4                 900  \n",
      "4                      2                 700  \n",
      "..                   ...                 ...  \n",
      "232                    1                 250  \n",
      "233                    1                1500  \n",
      "234                    1                 900  \n",
      "235                    2                 450  \n",
      "236                    1                 300  \n",
      "\n",
      "[237 rows x 7 columns]\n"
     ]
    }
   ],
   "source": [
    "q2 = \"\"\" WITH customer_item_agg AS (\n",
    "    SELECT \n",
    "        o.customer_id,\n",
    "        p.product_name,\n",
    "        COUNT(*) AS total_transactions,\n",
    "        COUNT(*) AS total_quantity_sold,\n",
    "        SUM(o.amount) AS total_amount_spent\n",
    "    FROM fact_order o\n",
    "    LEFT JOIN dim_product p ON o.product_id = p.product_id\n",
    "    GROUP BY customer_id, product_name\n",
    ")\n",
    "SELECT \n",
    "    c.customer_id,\n",
    "    c.first_name,\n",
    "    c.last_name,\n",
    "    cia.product_name,\n",
    "    cia.total_transactions,\n",
    "    cia.total_quantity_sold,\n",
    "    cia.total_amount_spent\n",
    "FROM customer_item_agg cia\n",
    "JOIN dim_customer c ON c.customer_id = cia.customer_id\n",
    "ORDER BY c.customer_id, cia.product_name\"\"\"\n",
    "\n",
    "print(ps.sqldf(q2, locals()))"
   ]
  },
  {
   "cell_type": "markdown",
   "metadata": {},
   "source": [
    "##### 3.\tThe maximum product purchased for each country."
   ]
  },
  {
   "cell_type": "code",
   "execution_count": 47,
   "metadata": {
    "vscode": {
     "languageId": "sql"
    }
   },
   "outputs": [
    {
     "name": "stdout",
     "output_type": "stream",
     "text": [
      "  country product_name\n",
      "0     UAE     Keyboard\n",
      "1      UK     Mousepad\n",
      "2      UK     Keyboard\n",
      "3     USA     Mousepad\n"
     ]
    }
   ],
   "source": [
    "q3 = \"\"\"SELECT country, product_name\n",
    "FROM (\n",
    "  SELECT c.country, p.product_name, COUNT(o.customer_id) AS total_quantity,\n",
    "  DENSE_RANK() OVER (PARTITION BY c.country ORDER BY COUNT(o.customer_id) DESC) AS rn\n",
    "  FROM fact_order o\n",
    "  LEFT JOIN dim_customer c ON o.customer_id = c.customer_id\n",
    "  LEFT JOIN dim_product p ON o.product_id = p.product_id\n",
    "  GROUP BY c.country, p.product_name\n",
    ") a WHERE rn = 1 \"\"\"\n",
    "\n",
    "print(ps.sqldf(q3,locals()))"
   ]
  },
  {
   "cell_type": "markdown",
   "metadata": {},
   "source": [
    "##### 4.\tThe most purchased product based on the age category less than 30 and above 30."
   ]
  },
  {
   "cell_type": "code",
   "execution_count": 53,
   "metadata": {
    "vscode": {
     "languageId": "sql"
    }
   },
   "outputs": [
    {
     "name": "stdout",
     "output_type": "stream",
     "text": [
      "  age_category product_name  total_quantity_sold\n",
      "0          <30     Mousepad                   23\n",
      "1         >=30     Keyboard                   49\n"
     ]
    }
   ],
   "source": [
    "q4 = \"\"\"WITH customer_age AS (\n",
    "    SELECT \n",
    "    c.customer_id,\n",
    "    c.age_category,\n",
    "    p.product_name\n",
    "    FROM fact_order o\n",
    "    JOIN dim_customer c ON o.customer_id = c.customer_id\n",
    "    LEFT JOIN dim_product p ON o.product_id = p.product_id\n",
    "),\n",
    "product_quantity AS (\n",
    "    SELECT \n",
    "    age_category,\n",
    "    product_name,\n",
    "    COUNT(*) AS total_quantity_sold\n",
    "    FROM customer_age\n",
    "    GROUP BY age_category, product_name\n",
    "),\n",
    "ranked_products AS (\n",
    "    SELECT \n",
    "    *,\n",
    "    ROW_NUMBER() OVER (PARTITION BY age_category ORDER BY total_quantity_sold DESC) AS rn\n",
    "    FROM product_quantity\n",
    ")\n",
    "SELECT age_category, product_name, total_quantity_sold\n",
    "FROM ranked_products\n",
    "WHERE rn = 1\"\"\"\n",
    "\n",
    "print(ps.sqldf(q4,locals()))\n"
   ]
  },
  {
   "cell_type": "markdown",
   "metadata": {},
   "source": [
    "##### 5.\tThe country that had minimum transactions and sales amount"
   ]
  },
  {
   "cell_type": "code",
   "execution_count": 62,
   "metadata": {
    "vscode": {
     "languageId": "sql"
    }
   },
   "outputs": [
    {
     "name": "stdout",
     "output_type": "stream",
     "text": [
      "  country  total_transactions  total_sales\n",
      "0     UAE                  63        81650\n"
     ]
    }
   ],
   "source": [
    "q5 = \"\"\"WITH country_totals AS (\n",
    "    SELECT \n",
    "        c.country,\n",
    "        COUNT(*) AS total_transactions,\n",
    "        SUM(o.amount) AS total_sales\n",
    "    FROM fact_order o\n",
    "    JOIN dim_customer c ON o.customer_id = c.customer_id\n",
    "    GROUP BY c.country\n",
    ")\n",
    "SELECT *\n",
    "FROM country_totals\n",
    "ORDER BY total_transactions ASC, total_sales ASC\n",
    "LIMIT 1\"\"\"\n",
    "\n",
    "print(ps.sqldf(q5,locals()))"
   ]
  }
 ],
 "metadata": {
  "kernelspec": {
   "display_name": "myenv",
   "language": "python",
   "name": "python3"
  },
  "language_info": {
   "codemirror_mode": {
    "name": "ipython",
    "version": 3
   },
   "file_extension": ".py",
   "mimetype": "text/x-python",
   "name": "python",
   "nbconvert_exporter": "python",
   "pygments_lexer": "ipython3",
   "version": "3.11.3"
  }
 },
 "nbformat": 4,
 "nbformat_minor": 2
}
